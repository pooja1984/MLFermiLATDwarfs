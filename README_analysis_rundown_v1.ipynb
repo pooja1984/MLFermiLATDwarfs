{
 "cells": [
  {
   "cell_type": "markdown",
   "metadata": {},
   "source": [
    "# Deriving dark matter constraints from dwarf galaxies with a data-driven approach"
   ]
  },
  {
   "cell_type": "markdown",
   "metadata": {},
   "source": [
    "In this notebook, we show how to work with the provided scripts in order to reproduce the analyses presented in [arXiv:1803.05508](https://iopscience.iop.org/article/10.1088/1475-7516/2018/10/029) and [arXiv:2002.01229](https://iopscience.iop.org/article/10.1088/1475-7516/2020/09/004).\n",
    "\n",
    "The general idea of this approach is to improve on the standard Fermi-LAT analysis of dwarf spheroidal galaxies aiming to constrain the parameters of particle dark matter. The main difference arises from the treatment of the expected astrophysical gamma-ray background at the position of a particular dwarf galaxy. While the Fermi-LAT collaboration relies on a conventional assessment of the uncertainty of this background component via a selection of various models, the approach presented here is based on a data-driven technique utilisng the whole-sky data and an optimisation procedure of the expected background levels.\n",
    "\n",
    "<b> Note: </b> All Fermi-LAT data that comes with this library is the setup used for [arXiv:2002.01229](https://iopscience.iop.org/article/10.1088/1475-7516/2020/09/004). In this version of the code, the user is not able to replace these data with a custom data set and to repeat the optimisation routine on such data. We stress here the specifications of the provided LAT data:\n",
    "\n",
    "- time period: August 4, 2008 (week 9) to June 7, 2018 (week 522),\n",
    "- event class: SOURCE (P8R2),\n",
    "- event type: FRONT+BACK,\n",
    "- energy range: 500 MeV to 500 GeV (24 logarithmically spaced energy bins),\n",
    "- region of interest: all sky ($0.1^{\\circ}\\times0.1^{\\circ}$ pixels in plate carrée (CAR) projection),\n",
    "- quality cuts: (DATA_QUAL>0) && (LAT_CONFIG==1),\n",
    "- zenith angle cut: $>90^{\\circ}$.\n",
    "\n",
    "<b> Outline: </b> In this notebook, we first introduce the handling of the $J$-factor and background profiling routines of this software package. This part of the code can be used to analyse single dwarfs galaxies as well as a selection of dwarfs whose statistical power is stacked to derive a combined upper limit on the relevant dark matter parameters. We show how to manipulate the data input the user is enabled to provide in order to customise the code according to their needs. <br>\n",
    "In the second part, we use the default parameters of the scripts and input data files to reproduce Fig. 5 of [arXiv:2002.01229](https://iopscience.iop.org/article/10.1088/1475-7516/2020/09/004). "
   ]
  },
  {
   "cell_type": "markdown",
   "metadata": {},
   "source": [
    "## Setup\n",
    "\n",
    "  <b>1.  Python modules</b> <br>\n",
    "  ***\n",
    "<b>Import all necessary scripts</b> required for the analysis and <b>define the path</b> where the folder with all code is stored."
   ]
  },
  {
   "cell_type": "code",
   "execution_count": 1,
   "metadata": {},
   "outputs": [],
   "source": [
    "from LAT_dwarfs import dwarf_profiling as dprof\n",
    "from LAT_dwarfs import dwarf_setlimits as dlim\n",
    "from LAT_dwarfs import dwarf_plot as dplot\n",
    "import multiprocessing as mp\n",
    "import os\n",
    "\n",
    "##Set the path to the working directory of the folder containing the scripts.\n",
    "source_path = \"./\""
   ]
  },
  {
   "cell_type": "markdown",
   "metadata": {},
   "source": [
    "<b> 2. Dwarf data table </b> <br>\n",
    "***\n",
    "The heart of the analysis is a dwarf spheroidal galaxy summary file, which lists all relevant properties of the dwarfs that may be included in a run of the script. It is called:<br>\n",
    "<br>\n",
    "      `default_dwarf_summary_table.dat`<br>\n",
    "<br>\n",
    "This table lists the following quantities with some example entries:<br>\n",
    "\n",
    "| dwarf name | position<br>(2 columns: Galactic longitude/latitude in degree) | $J$-factor<br>(2 columns: $\\log_{10}J$ and $\\log_{10}\\sigma_J$ ) | LAT exposure at dwarf position for each of the 24 energy bins \\[cm$^2$ s\\] |\n",
    "| :---: | :---: | :---: | :---: |\n",
    "| Carina | (260.11, -22.22) | (17.87, 0.07) | 3.32252280e+11 3.61144365e+11 3.84963682e+11 4.14092865e+11 4.31196305e+11 4.40936021e+11 4.43478687e+11 4.40878279e+11 4.33701602e+11 4.36104907e+11 4.37812239e+11 4.37920453e+11 4.37857380e+11 4.36889956e+11 4.42446218e+11 4.48922810e+11 4.49737009e+11 4.48386825e+11 4.47037663e+11 4.45163380e+11 4.44010471e+11 4.43578722e+11 4.43483841e+11 4.40888340e+11 |\n",
    "| Draco | (86.37, 34.72) | (18.69, 0.05) | 4.02486981e+11 4.37197565e+11 4.66289039e+11 5.01611222e+11 5.22042808e+11 5.33966847e+11 5.37196898e+11 5.33446559e+11 5.25155909e+11 5.28062124e+11 5.30240148e+11 5.30246919e+11 5.30313578e+11 5.29370038e+11 5.35597303e+11 5.43548191e+11 5.44546484e+11 5.42970131e+11 5.41249779e+11 5.39293537e+11 5.38040048e+11 5.37676589e+11 5.37632121e+11 5.34474252e+11 |\n",
    "| LeoII | (220.17, 67.23) | (17.48, 0.09) | 3.00596565e+11 3.28264033e+11 3.52440798e+11 3.81887576e+11 3.99504645e+11 4.07639952e+11 4.08402258e+11 4.03732760e+11 3.93886598e+11 3.93909777e+11 3.96024602e+11 3.96044668e+11 3.94370130e+11 3.91737383e+11 4.02795175e+11 4.11510480e+11 4.12851105e+11 4.11549393e+11 4.10860748e+11 4.08407909e+11 4.07279034e+11 4.06540708e+11 4.06509656e+11 4.02658200e+11 |\n",
    "\n",
    "The currently available dwarfs and their properties are taken from the Fermi-LAT collaboration's publication [arXiv:1611.03184](https://iopscience.iop.org/article/10.3847/1538-4357/834/2/110). The user is free to change these values to their likings. <b> Adding dwarfs would require to re-run the background optimisation routine because these positions are not yet part of the provided data tables. Hence, it is currently not possible to do so. The ordering of the dwarfs must not be changed because there are further auxiliary files that follow the same ordering but are not supposed to be touched. </b>\n",
    "\n",
    "<b> 3. User-defined DM spectrum files </b> <br>\n",
    "***\n",
    "By default, the analysis uses the WIMP dark matter differential gamma-ray spectra discussed in the \"PPPC 4 DM ID - A Poor Particle Physicist Cookbook for Dark Matter Indirect Detection\" [arXiv:1012.4515](https://iopscience.iop.org/article/10.1088/1475-7516/2011/03/051), which come alongside the code with either electroweak corrections (`AtProduction_gammas.dat`) or without them (`AtProductionNoEW_gammas.dat`). Currently, three different spectra may be accessed: `[\"bb\", \"WW\", \"tautau\"]`. The choice has to be manually entered in the script `dwarf_profiling.py` by setting the argument `annihil_channel` of the function `integrate_DM_dNdE`. The default is `\"bb\"`.<br>\n",
    "<br>\n",
    "Alternatively, the user has the option to derive constraints on the parameters of any dark matter model as long as they provide a table of the differential gamma-ray spectrum per annihilation event $\\mathrm{d}N/\\mathrm{d}E$, i.e. the number of gamma rays produced with a particular energy $E$ in a single annihilation event. The expected format of such a spectrum is a simple plain text document with three columns:\n",
    "\n",
    "| DM mass $m_{\\mathrm{DM}}$ | energy E \\[GeV\\] | $\\frac{\\mathrm{d}N}{\\mathrm{d}E}$ \\[GeV$^{-1}$\\]|\n",
    "| :---: | :---: | :---: |\n",
    "| 50.0 | 0.001 | 0.01 |\n",
    "| 50.0 | 0.0015 | 0.012 |\n",
    "| ... | ... | ... |\n",
    "| 50.0 | 50.0 | 1e-9 |\n",
    "| 60.0 | 0.001 | 0.0101 |\n",
    "| ... | ... | ... |\n",
    "\n",
    "Note that the dark matter mass column repeats in each row the mass value for each entry in the two associated columns. <br>\n",
    "<b> Note: </b> Setting upper limits at different dark matter masses requires the user to provide the gamma-ray spectrum at the requested dark matter mass. There is no interpolation implemented."
   ]
  },
  {
   "cell_type": "markdown",
   "metadata": {},
   "source": [
    "### Running the dSph profiling over $J$-factors and/or background"
   ]
  },
  {
   "cell_type": "markdown",
   "metadata": {},
   "source": [
    "To initiate the dwarf profiling, we first import the prepared dwarf data table:"
   ]
  },
  {
   "cell_type": "code",
   "execution_count": 2,
   "metadata": {},
   "outputs": [],
   "source": [
    "dwarf_data = dprof.getdSphs_data_from_table(source_path + \"default_dwarf_summary_table.dat\", 29)\n",
    "## the second argument \"29\" refers to the number of columns in the dwarf table"
   ]
  },
  {
   "cell_type": "markdown",
   "metadata": {},
   "source": [
    "To run the main routine of `dwarf_profiling.py` we need to specify secondary specifications of the run:\n",
    "\n",
    "- Which dwarfs are supposed to be considered?"
   ]
  },
  {
   "cell_type": "code",
   "execution_count": 3,
   "metadata": {},
   "outputs": [],
   "source": [
    "dwarf_list = [\"Draco\", \"LeoII\"] ## This list may contain a single or multiple dwarfs. If there are multiple dwarfs,\n",
    "                                ## stacking is automatically activated."
   ]
  },
  {
   "cell_type": "markdown",
   "metadata": {},
   "source": [
    "- Do you want to include empirical $J$-factors derived and utilised in [arXiv:2002.01229](https://iopscience.iop.org/article/10.1088/1475-7516/2020/09/004) that rely on a data-driven shape of the J-factors’ empirical probability distribution? The relevant data may be found in the folder `Jfactors` and it concers the dwarfs: \"Draco\", \"Carina\", \"Fornax\", \"LeoI\", \"LeoII\", \"Sculptor\", \"Sextans\" and \"UrsaMinor\". If this option is selected, all dwarfs, for which no empirical $J$-factor results are available, take average $J$-factor value and uncertainty from the dwarf table."
   ]
  },
  {
   "cell_type": "code",
   "execution_count": 4,
   "metadata": {},
   "outputs": [],
   "source": [
    "emp_jlist = source_path + \"Jfactors\"\n",
    "is_empirical = True"
   ]
  },
  {
   "cell_type": "markdown",
   "metadata": {},
   "source": [
    "- Do you want to use a user-defined dark matter annihilation spectrum? If so, import its path otherwise set it to 'None'."
   ]
  },
  {
   "cell_type": "code",
   "execution_count": 5,
   "metadata": {},
   "outputs": [],
   "source": [
    "spectrum = None"
   ]
  },
  {
   "cell_type": "markdown",
   "metadata": {},
   "source": [
    "- At which dark matter masses do you want to evaluate the profiled likelihood? This has to be specified via a simple plain text file which lists all <b> masses in GeV </b> line by line."
   ]
  },
  {
   "cell_type": "code",
   "execution_count": 6,
   "metadata": {},
   "outputs": [],
   "source": [
    "filescan = source_path + \"scan_DM_mass.dat\""
   ]
  },
  {
   "cell_type": "markdown",
   "metadata": {},
   "source": [
    "- What is the range of annihilation cross-sections that is used to scan the profiled likelihood function (should be large enough to encompass the cross-section value at which the final limit is being set)?"
   ]
  },
  {
   "cell_type": "code",
   "execution_count": 7,
   "metadata": {},
   "outputs": [],
   "source": [
    "svmin = 1e-27 ##cm^3/s\n",
    "svmax = 1e-22 ##cm^3/s"
   ]
  },
  {
   "cell_type": "markdown",
   "metadata": {},
   "source": [
    "- Specify the data with the optimised background counts (already done; not to be changed by the user)!"
   ]
  },
  {
   "cell_type": "code",
   "execution_count": 8,
   "metadata": {},
   "outputs": [],
   "source": [
    "bkg_path = source_path + \"bkg_data\""
   ]
  },
  {
   "cell_type": "markdown",
   "metadata": {},
   "source": [
    "- The code is parallelised, the user may specify the number of threads to run in parallel."
   ]
  },
  {
   "cell_type": "code",
   "execution_count": 9,
   "metadata": {},
   "outputs": [],
   "source": [
    "ncpu = mp.cpu_count() ## maximal number of available threads on your computer"
   ]
  },
  {
   "cell_type": "markdown",
   "metadata": {},
   "source": [
    "- Do you want to profile only over the $J$-factor uncertainty (`\"J\"`) or over background and $J$-factors at the same time (`\"JB\"`)? <br> <b> Besides this choice , the user needs to create (if running the code for the first time) a new folder where the profiling results are stored. The code assumes the existence of such folders so that their name tags have to be either: `profiling_caseJ` or `profiling_caseJB` depending on the user's choice.</b>"
   ]
  },
  {
   "cell_type": "code",
   "execution_count": 10,
   "metadata": {},
   "outputs": [],
   "source": [
    "case = \"J\"\n",
    "### do not forget to run `mkdir profiling_caseJ` if you run the script for the first time\n",
    "os.system('mkdir ' + source_path + 'profiling_caseJ') # os.system('mkdir ' + source_path + 'profiling_caseJB')"
   ]
  },
  {
   "cell_type": "markdown",
   "metadata": {},
   "source": [
    "Now we are ready to run the main routine of the profiling script:"
   ]
  },
  {
   "cell_type": "code",
   "execution_count": 40,
   "metadata": {},
   "outputs": [
    {
     "name": "stdout",
     "output_type": "stream",
     "text": [
      "++++ this is dwarf # ++++ this is dwarf # ++++ this is dwarf # ++++ this is dwarf # ++++ this is dwarf # ++++ this is dwarf # ++++ this is dwarf # ++++ this is dwarf #   "
     ]
    }
   ],
   "source": [
    "dprof.profiling(dwarf_data, \n",
    "                dwarf_list = dwarf_list,\n",
    "                emp_jlist = emp_jlist,\n",
    "                is_empirical = is_empirical,\n",
    "                spectrum = spectrum,\n",
    "                filescan = filescan,\n",
    "                svmin = svmin,\n",
    "                svmax = svmax,\n",
    "                bkg_path = bkg_path,\n",
    "                ncpu = ncpu,\n",
    "                case = case,\n",
    ")"
   ]
  },
  {
   "cell_type": "markdown",
   "metadata": {},
   "source": [
    "### Exploiting the tabulated profiled likelihood values to set upper limits"
   ]
  },
  {
   "cell_type": "markdown",
   "metadata": {},
   "source": [
    "Now we have generated several tables of profiled likelihood values for all dark matter masses specified in the file `\"scan_DM_mass.dat\"` using the results from the two dwarfs \"Draco\" and \"LeoII\". We now evaluate these tables with the goal to set upper limits -- of a specific confidence level -- on the dark matter pair-annihilation cross-section by calling the routines of `dwarf_setlimits.py`.<br>\n",
    "<br>\n",
    "To this end, we have to define the confidence level of the upper limits by declaring the log-likelihood ratio:"
   ]
  },
  {
   "cell_type": "code",
   "execution_count": 11,
   "metadata": {},
   "outputs": [],
   "source": [
    "deltaEXCL = 3.84 ## 95% confidence level"
   ]
  },
  {
   "cell_type": "markdown",
   "metadata": {},
   "source": [
    "We also have to specify the path to the folder that contains the generated profiled likelihood tables. <b> Like in the profiling case, if this is the first time the code is run, the user must first create a folder `mkdir excl_limits_caseJ` or `mkdir excl_limits_caseJB` depending on the chosen case. </b>"
   ]
  },
  {
   "cell_type": "code",
   "execution_count": 16,
   "metadata": {},
   "outputs": [],
   "source": [
    "root = source_path + \"profiling_caseJ/\"\n",
    "### Do not forget to create the required folders where the limits are stored as text files!\n",
    "os.system('mkdir ' + source_path + 'excl_limits_caseJ') # os.system('mkdir ' + source_path + 'excl_limits_caseJB')"
   ]
  },
  {
   "cell_type": "markdown",
   "metadata": {},
   "source": [
    "Now we can run the limit setting routine:"
   ]
  },
  {
   "cell_type": "code",
   "execution_count": 15,
   "metadata": {},
   "outputs": [
    {
     "name": "stdout",
     "output_type": "stream",
     "text": [
      "+++++++++++++++  This is case  J  ++++++++++++++++++++++\n",
      "File =  sv_caseJ_Draco+LeoII_0.dat\n",
      " sv excl =  9.217145848418982e-27\n",
      "File =  sv_caseJ_Draco+LeoII_1.dat\n",
      " sv excl =  1.0294405236253758e-26\n",
      "File =  sv_caseJ_Draco+LeoII_2.dat\n",
      " sv excl =  1.6166680745349672e-26\n",
      "File =  sv_caseJ_Draco+LeoII_3.dat\n",
      " sv excl =  2.138616992939206e-26\n",
      "File =  sv_caseJ_Draco+LeoII_4.dat\n",
      " sv excl =  2.6341594756343903e-26\n",
      "File =  sv_caseJ_Draco+LeoII_5.dat\n",
      " sv excl =  3.130758475439502e-26\n",
      "File =  sv_caseJ_Draco+LeoII_6.dat\n",
      " sv excl =  3.644652826188607e-26\n",
      "File =  sv_caseJ_Draco+LeoII_7.dat\n",
      " sv excl =  4.179863661428191e-26\n",
      "File =  sv_caseJ_Draco+LeoII_8.dat\n",
      " sv excl =  4.7442505516082805e-26\n",
      "File =  sv_caseJ_Draco+LeoII_9.dat\n",
      " sv excl =  5.329330663090818e-26\n",
      "File =  sv_caseJ_Draco+LeoII_10.dat\n",
      " sv excl =  5.931674589932798e-26\n",
      "File =  sv_caseJ_Draco+LeoII_11.dat\n",
      " sv excl =  6.556644971410913e-26\n",
      "File =  sv_caseJ_Draco+LeoII_12.dat\n",
      " sv excl =  7.19756703787578e-26\n",
      "File =  sv_caseJ_Draco+LeoII_13.dat\n",
      " sv excl =  9.219268631345338e-26\n",
      "File =  sv_caseJ_Draco+LeoII_14.dat\n",
      " sv excl =  1.1394772809123277e-25\n",
      "File =  sv_caseJ_Draco+LeoII_15.dat\n",
      " sv excl =  1.2933354186644174e-25\n",
      "File =  sv_caseJ_Draco+LeoII_16.dat\n",
      " sv excl =  1.789473504716289e-25\n",
      "File =  sv_caseJ_Draco+LeoII_17.dat\n",
      " sv excl =  2.148984204390128e-25\n",
      "File =  sv_caseJ_Draco+LeoII_18.dat\n",
      " sv excl =  3.153188071704221e-25\n",
      "File =  sv_caseJ_Draco+LeoII_19.dat\n",
      " sv excl =  4.29302360393905e-25\n",
      "File =  sv_caseJ_Draco+LeoII_20.dat\n",
      " sv excl =  5.5561565954082835e-25\n",
      "File =  sv_caseJ_Draco+LeoII_21.dat\n",
      " sv excl =  6.930811357608807e-25\n",
      "File =  sv_caseJ_Draco+LeoII_22.dat\n",
      " sv excl =  8.409931903197307e-25\n",
      "File =  sv_caseJ_Draco+LeoII_23.dat\n",
      " sv excl =  9.995395429679835e-25\n",
      "File =  sv_caseJ_Draco+LeoII_24.dat\n",
      " sv excl =  1.167633994828105e-24\n"
     ]
    }
   ],
   "source": [
    "dlim.limits(case = case, \n",
    "             ndwarf = dwarf_list, \n",
    "             deltaEXCL = deltaEXCL, \n",
    "             filescan = filescan, \n",
    "             root = root,\n",
    ")"
   ]
  },
  {
   "cell_type": "markdown",
   "metadata": {},
   "source": [
    "### Plotting the upper limits"
   ]
  },
  {
   "cell_type": "markdown",
   "metadata": {},
   "source": [
    "The analysis library also contains a short script to create plots of the derived upper limits. This routine is designed to use the text files stored in the folders `excl_limits_caseJ` or `excl_limits_caseJB` and plot them in a loglog-style.<br>\n",
    "The user may additionally provide the respective upper limits of single dwarfs if the main result is a combined limit from several stacked dwarfs."
   ]
  },
  {
   "cell_type": "code",
   "execution_count": 11,
   "metadata": {},
   "outputs": [],
   "source": [
    "root = source_path + \"excl_limits_caseJ/\"\n",
    "plot_type = \"single\" #if `single' only the file corresponding to the specified combination of dwarfs is plotted,\n",
    "                     #if 'all', the routine assumes that besides the file with stacked dwarfs other files exist that\n",
    "                     #contain the limits solely based on one of the dwarfs in the original list."
   ]
  },
  {
   "cell_type": "markdown",
   "metadata": {},
   "source": [
    "If we run the plotting routine, we obtain the following plot (saved as a .pdf):"
   ]
  },
  {
   "cell_type": "code",
   "execution_count": 12,
   "metadata": {},
   "outputs": [
    {
     "name": "stderr",
     "output_type": "stream",
     "text": [
      "findfont: Font family ['serif'] not found. Falling back to DejaVu Sans.\n"
     ]
    },
    {
     "data": {
      "image/png": "[encoded data removed]",
      "text/plain": [
       "<Figure size 1152x711.975 with 1 Axes>"
      ]
     },
     "metadata": {
      "needs_background": "light"
     },
     "output_type": "display_data"
    }
   ],
   "source": [
    "dplot.plot_limits_scan(root = root, \n",
    "                       dwarf_list = dwarf_list, \n",
    "                       case = case, \n",
    "                       plot_type = plot_type,\n",
    ")"
   ]
  },
  {
   "cell_type": "markdown",
   "metadata": {},
   "source": [
    "## Application: Reproducing Fig. 5 of [arXiv:2002.01229](https://iopscience.iop.org/article/10.1088/1475-7516/2020/09/004)"
   ]
  },
  {
   "cell_type": "markdown",
   "metadata": {},
   "source": [
    "The results in this publication are based on four prominent dwarf spheroidal galaxies: Draco, Sculptor, LeoII and UrsaMinor. For these dwarfs, we have empirical $J$-factors, which we will employ in order to obtain annihilation cross-section upper limits rather agnostic on any a priori assumptions about the functional shape of background or $J$-factor probability distributions with respect to each dwarf."
   ]
  },
  {
   "cell_type": "markdown",
   "metadata": {},
   "source": [
    "The final plots contain the combined as well as single dwarf limits so that we have to derive all of them before plotting them all together!"
   ]
  },
  {
   "cell_type": "markdown",
   "metadata": {},
   "source": [
    "### Left panel: $J$-profiling"
   ]
  },
  {
   "cell_type": "code",
   "execution_count": 5,
   "metadata": {},
   "outputs": [],
   "source": [
    "case = \"J\"\n",
    "dwarf_list = [\"Draco\", \"LeoII\", \"Sculptor\", \"UrsaMinor\"]\n",
    "\n",
    "dwarf_data = dprof.getdSphs_data_from_table(source_path + \"default_dwarf_summary_table.dat\", 29)\n",
    "emp_jlist = source_path + \"Jfactors\"\n",
    "is_empirical = True\n",
    "spectrum = None\n",
    "filescan = source_path + \"scan_DM_mass.dat\"\n",
    "svmin = 1e-27 \n",
    "svmax = 1e-22 \n",
    "bkg_path = source_path + \"bkg_data\"\n",
    "ncpu = mp.cpu_count() \n",
    "\n",
    "dprof.profiling(dwarf_data, \n",
    "                dwarf_list = dwarf_list,\n",
    "                emp_jlist = emp_jlist,\n",
    "                is_empirical = is_empirical,\n",
    "                spectrum = spectrum,\n",
    "                filescan = filescan,\n",
    "                svmin = svmin,\n",
    "                svmax = svmax,\n",
    "                bkg_path = bkg_path,\n",
    "                ncpu = ncpu,\n",
    "                case = case,\n",
    ")"
   ]
  },
  {
   "cell_type": "markdown",
   "metadata": {},
   "source": [
    "Repeating the same lines for each single dwarf galaxy:"
   ]
  },
  {
   "cell_type": "code",
   "execution_count": 16,
   "metadata": {},
   "outputs": [
    {
     "name": "stdout",
     "output_type": "stream",
     "text": [
      "++++ this is dwarf # ++++ this is dwarf # ++++ this is dwarf # ++++ this is dwarf # "
     ]
    }
   ],
   "source": [
    "dprof.profiling(dwarf_data, \n",
    "                dwarf_list = [\"Draco\", ],\n",
    "                emp_jlist = emp_jlist,\n",
    "                is_empirical = is_empirical,\n",
    "                spectrum = spectrum,\n",
    "                filescan = filescan,\n",
    "                svmin = svmin,\n",
    "                svmax = svmax,\n",
    "                bkg_path = bkg_path,\n",
    "                ncpu = ncpu,\n",
    "                case = case,\n",
    ")\n",
    "\n",
    "dprof.profiling(dwarf_data, \n",
    "                dwarf_list = [\"LeoII\", ],\n",
    "                emp_jlist = emp_jlist,\n",
    "                is_empirical = is_empirical,\n",
    "                spectrum = spectrum,\n",
    "                filescan = filescan,\n",
    "                svmin = svmin,\n",
    "                svmax = svmax,\n",
    "                bkg_path = bkg_path,\n",
    "                ncpu = ncpu,\n",
    "                case = case,\n",
    ")\n",
    "\n",
    "dprof.profiling(dwarf_data, \n",
    "                dwarf_list = [\"Sculptor\", ],\n",
    "                emp_jlist = emp_jlist,\n",
    "                is_empirical = is_empirical,\n",
    "                spectrum = spectrum,\n",
    "                filescan = filescan,\n",
    "                svmin = svmin,\n",
    "                svmax = svmax,\n",
    "                bkg_path = bkg_path,\n",
    "                ncpu = ncpu,\n",
    "                case = case,\n",
    ")\n",
    "\n",
    "dprof.profiling(dwarf_data, \n",
    "                dwarf_list = [\"UrsaMinor\", ],\n",
    "                emp_jlist = emp_jlist,\n",
    "                is_empirical = is_empirical,\n",
    "                spectrum = spectrum,\n",
    "                filescan = filescan,\n",
    "                svmin = svmin,\n",
    "                svmax = svmax,\n",
    "                bkg_path = bkg_path,\n",
    "                ncpu = ncpu,\n",
    "                case = case,\n",
    ")"
   ]
  },
  {
   "cell_type": "markdown",
   "metadata": {},
   "source": [
    "Now, we can derive upper limits for each dwarf galaxy and their combined, stacked limits:"
   ]
  },
  {
   "cell_type": "code",
   "execution_count": 6,
   "metadata": {},
   "outputs": [],
   "source": [
    "deltaEXCL = 3.84 ## 95% confidence level\n",
    "root = source_path + \"profiling_caseJ/\"\n",
    "\n",
    "dlim.limits(case = case, \n",
    "             ndwarf = dwarf_list, \n",
    "             deltaEXCL = deltaEXCL, \n",
    "             filescan = filescan, \n",
    "             root = root,\n",
    ")\n",
    "\n",
    "#### Single dwarfs\n",
    "\n",
    "dlim.limits(case = case, \n",
    "             ndwarf = [\"UrsaMinor\", ], \n",
    "             deltaEXCL = deltaEXCL, \n",
    "             filescan = filescan, \n",
    "             root = root,\n",
    ")\n",
    "\n",
    "dlim.limits(case = case, \n",
    "             ndwarf = [\"Draco\", ], \n",
    "             deltaEXCL = deltaEXCL, \n",
    "             filescan = filescan, \n",
    "             root = root,\n",
    ")\n",
    "\n",
    "dlim.limits(case = case, \n",
    "             ndwarf = [\"Sculptor\", ], \n",
    "             deltaEXCL = deltaEXCL, \n",
    "             filescan = filescan, \n",
    "             root = root,\n",
    ")\n",
    "\n",
    "dlim.limits(case = case, \n",
    "             ndwarf = [\"LeoII\", ], \n",
    "             deltaEXCL = deltaEXCL, \n",
    "             filescan = filescan, \n",
    "             root = root,\n",
    ")"
   ]
  },
  {
   "cell_type": "markdown",
   "metadata": {},
   "source": [
    "Everything can now be combined into a single plot reproducing the left panel of Fig. 5:"
   ]
  },
  {
   "cell_type": "code",
   "execution_count": 7,
   "metadata": {},
   "outputs": [],
   "source": [
    "root = source_path + \"excl_limits_caseJ/\"\n",
    "plot_type = \"all\"\n",
    "\n",
    "dplot.plot_limits_scan(root = root, \n",
    "                       dwarf_list = dwarf_list, \n",
    "                       case = case, \n",
    "                       plot_type = plot_type,\n",
    ")"
   ]
  },
  {
   "cell_type": "markdown",
   "metadata": {},
   "source": [
    "![](FermiLAT_J_profiling_excl_limits_stacked_dSph_Draco+LeoII+Sculptor+UrsaMinor_w_single_dwarfs.png)"
   ]
  },
  {
   "cell_type": "markdown",
   "metadata": {},
   "source": [
    "### Right panel: JB - profiling"
   ]
  },
  {
   "cell_type": "code",
   "execution_count": 8,
   "metadata": {},
   "outputs": [],
   "source": [
    "case = \"JB\"\n",
    "os.system('mkdir ' + source_path + 'profiling_caseJB')    ### creating the required folder\n",
    "dwarf_list = [\"Draco\", \"LeoII\", \"Sculptor\", \"UrsaMinor\"]\n",
    "\n",
    "dwarf_data = dprof.getdSphs_data_from_table(source_path + \"default_dwarf_summary_table.dat\", 29)\n",
    "emp_jlist = source_path + \"Jfactors\"\n",
    "is_empirical = True\n",
    "spectrum = None\n",
    "filescan = source_path + \"scan_DM_mass.dat\"\n",
    "svmin = 1e-27 \n",
    "svmax = 1e-22 \n",
    "bkg_path = source_path + \"bkg_data\"\n",
    "ncpu = mp.cpu_count() \n",
    "\n",
    "dprof.profiling(dwarf_data, \n",
    "                dwarf_list = dwarf_list,\n",
    "                emp_jlist = emp_jlist,\n",
    "                is_empirical = is_empirical,\n",
    "                spectrum = spectrum,\n",
    "                filescan = filescan,\n",
    "                svmin = svmin,\n",
    "                svmax = svmax,\n",
    "                bkg_path = bkg_path,\n",
    "                ncpu = ncpu,\n",
    "                case = case,\n",
    ")"
   ]
  },
  {
   "cell_type": "code",
   "execution_count": null,
   "metadata": {},
   "outputs": [],
   "source": [
    "dprof.profiling(dwarf_data, \n",
    "                dwarf_list = [\"Draco\", ],\n",
    "                emp_jlist = emp_jlist,\n",
    "                is_empirical = is_empirical,\n",
    "                spectrum = spectrum,\n",
    "                filescan = filescan,\n",
    "                svmin = svmin,\n",
    "                svmax = svmax,\n",
    "                bkg_path = bkg_path,\n",
    "                ncpu = ncpu,\n",
    "                case = case,\n",
    ")\n",
    "\n",
    "dprof.profiling(dwarf_data, \n",
    "                dwarf_list = [\"LeoII\", ],\n",
    "                emp_jlist = emp_jlist,\n",
    "                is_empirical = is_empirical,\n",
    "                spectrum = spectrum,\n",
    "                filescan = filescan,\n",
    "                svmin = svmin,\n",
    "                svmax = svmax,\n",
    "                bkg_path = bkg_path,\n",
    "                ncpu = ncpu,\n",
    "                case = case,\n",
    ")\n",
    "\n",
    "dprof.profiling(dwarf_data, \n",
    "                dwarf_list = [\"Sculptor\", ],\n",
    "                emp_jlist = emp_jlist,\n",
    "                is_empirical = is_empirical,\n",
    "                spectrum = spectrum,\n",
    "                filescan = filescan,\n",
    "                svmin = svmin,\n",
    "                svmax = svmax,\n",
    "                bkg_path = bkg_path,\n",
    "                ncpu = ncpu,\n",
    "                case = case,\n",
    ")\n",
    "\n",
    "dprof.profiling(dwarf_data, \n",
    "                dwarf_list = [\"UrsaMinor\", ],\n",
    "                emp_jlist = emp_jlist,\n",
    "                is_empirical = is_empirical,\n",
    "                spectrum = spectrum,\n",
    "                filescan = filescan,\n",
    "                svmin = svmin,\n",
    "                svmax = svmax,\n",
    "                bkg_path = bkg_path,\n",
    "                ncpu = ncpu,\n",
    "                case = case,\n",
    ")"
   ]
  },
  {
   "cell_type": "code",
   "execution_count": null,
   "metadata": {},
   "outputs": [],
   "source": [
    "deltaEXCL = 3.84 ## 95% confidence level\n",
    "root = source_path + \"profiling_caseJB/\"\n",
    "os.system('mkdir ' + source_path + 'excl_limits_caseJB')\n",
    "\n",
    "dlim.limits(case = case, \n",
    "             ndwarf = dwarf_list, \n",
    "             deltaEXCL = deltaEXCL, \n",
    "             filescan = filescan, \n",
    "             root = root,\n",
    ")\n",
    "\n",
    "#### Single dwarfs\n",
    "\n",
    "dlim.limits(case = case, \n",
    "             ndwarf = [\"UrsaMinor\", ], \n",
    "             deltaEXCL = deltaEXCL, \n",
    "             filescan = filescan, \n",
    "             root = root,\n",
    ")\n",
    "\n",
    "dlim.limits(case = case, \n",
    "             ndwarf = [\"Draco\", ], \n",
    "             deltaEXCL = deltaEXCL, \n",
    "             filescan = filescan, \n",
    "             root = root,\n",
    ")\n",
    "\n",
    "dlim.limits(case = case, \n",
    "             ndwarf = [\"Sculptor\", ], \n",
    "             deltaEXCL = deltaEXCL, \n",
    "             filescan = filescan, \n",
    "             root = root,\n",
    ")\n",
    "\n",
    "dlim.limits(case = case, \n",
    "             ndwarf = [\"LeoII\", ], \n",
    "             deltaEXCL = deltaEXCL, \n",
    "             filescan = filescan, \n",
    "             root = root,\n",
    ")"
   ]
  },
  {
   "cell_type": "code",
   "execution_count": 9,
   "metadata": {},
   "outputs": [],
   "source": [
    "root = source_path + \"excl_limits_caseJB/\"\n",
    "plot_type = \"all\"\n",
    "\n",
    "dplot.plot_limits_scan(root = root, \n",
    "                       dwarf_list = dwarf_list, \n",
    "                       case = case, \n",
    "                       plot_type = plot_type,\n",
    ")"
   ]
  },
  {
   "cell_type": "markdown",
   "metadata": {},
   "source": [
    "![](FermiLAT_JB_profiling_excl_limits_stacked_dSph_Draco+LeoII+Sculptor+UrsaMinor_w_single_dwarfs.png)"
   ]
  },
  {
   "cell_type": "markdown",
   "metadata": {},
   "source": [
    "## Final remarks"
   ]
  },
  {
   "cell_type": "markdown",
   "metadata": {},
   "source": [
    "The routines and scripts that have been called in this interactive jupyter notebook, may also be run from the command line by providing parser arguments. In the following we list the parser arguments that the user may specify."
   ]
  },
  {
   "cell_type": "markdown",
   "metadata": {},
   "source": [
    "### `dwarf_profiling.py`<br>\n",
    "\n",
    "The dwarf list is a single string of the name tags of all dwarfs joined by a `+`."
   ]
  },
  {
   "cell_type": "markdown",
   "metadata": {},
   "source": [
    "```python\n",
    "    parser.add_option(\"-c\", \"--case\", dest=\"case\", help=\"Case: J - profiling only the J-factor; JB - combined profiling of dSph J-factor and background contribution\", metavar=\"MODE\", type='str', default = \"J\")\n",
    "    \n",
    "    parser.add_option(\"-l\", \"--dictionary\", dest=\"dwarf_dict\", help=\"dSph dict\", metavar=\"DICT\", type='str', default = \"default_dwarf_summary_table.dat\")\n",
    "\n",
    "    parser.add_option(\"-d\", \"--dwarfs\", dest=\"dwarf_list\", help=\"dSph list\", metavar=\"DWARF\", type='str', default = \"Draco\")\n",
    "    \n",
    "    parser.add_option(\"-j\", \"--jfactors\", dest=\"j_type\", help=\"Case: 1 -- use data-driven J-factors for those dwarfs for which they are available; 0 -- use the values of Table 1 in arXiv:1611.03184 of the Fermi-LAT collaboration\", metavar=\"EMP\", type=int, default = 1) \n",
    "    \n",
    "    parser.add_option(\"--svmin\", dest=\"svmin\", help=\"svmin for scan\", metavar=\"SVMIN\", type='float', default =1e-27)\n",
    "    parser.add_option(\"--svmax\", dest=\"svmax\", help=\"svmax for scan\", metavar=\"SVMAX\", type='float', default =1e-22)\n",
    "    parser.add_option(\"--filescan\", dest=\"filescan\", help=\"Sample points file\", metavar=\"SCAN\", type='str', default = \"misc/scan_DM_mass.dat\")\n",
    "    parser.add_option(\"--emp_J\", dest=\"j_path\", help=\"relative path to the folder with data-driven J-factor values per dwarf\", metavar=\"JPATH\", type='str', default = './Jfactors')\n",
    "    parser.add_option(\"--lnB\", dest=\"bkg_path\", help=\"relative path to the folder with measured and predicted background events at a chosen dwarf position\", metavar=\"BKGPATH\", type='str', default = './bkg_data')\n",
    "    parser.add_option(\"--spectrum\", dest=\"spectrum\", help=\"differential DM gamma-ray spectrum file\\nenergies expected in GeV\", metavar=\"DNDE\", type='str', default=None)\n",
    "```\n",
    "Example `python3 dwarf_profiling.py -c J -d Draco+LeoII+LeoI -j 0`<br>\n",
    "This runs the profiling with $J$-factor profiling via the stacked dwarf galaxies Draco, LeoI and LeoII using only the Fermi-LAT average $J$-factors and their uncertainties. The remaining default parameters are all in line with the input we have provided above."
   ]
  },
  {
   "cell_type": "markdown",
   "metadata": {},
   "source": [
    "### `dwarf_setlimits.py`"
   ]
  },
  {
   "cell_type": "markdown",
   "metadata": {},
   "source": [
    "```python\n",
    "    parser.add_option(\"-c\", \"--case\", dest=\"case\", help=\"Case: J - profiling only the J-factor; JB - combined profiling of dSph J-factor and background contribution\", metavar=\"MODE\", type='str', default = \"J\")\n",
    "    \n",
    "    # Sample dSph for either single case or combined limits\n",
    "    parser.add_option(\"-d\", \"--dwarfs\", dest=\"dwarf_list\", help=\"dSph list\", metavar=\"DWARF\", type='str', default = \"Draco\")\n",
    "    parser.add_option(\"--deltaEXCL\", dest=\"deltaEXCL\", help=\"delta in LogL for exclusion limit calculation\", metavar=\"deltaEXCL\", type='float', default =3.84)\n",
    "    parser.add_option(\"--filescan\", dest=\"filescan\", help=\"Sample points list\", metavar=\"SCAN\", type='str', default = \"misc/scan_DM_mass.dat\")\n",
    "```"
   ]
  },
  {
   "cell_type": "markdown",
   "metadata": {},
   "source": [
    "### `dwarf_plot.py`"
   ]
  },
  {
   "cell_type": "markdown",
   "metadata": {},
   "source": [
    "```python\n",
    "    parser.add_option(\"-d\", \"--dwarf\", dest=\"dwarf_list\", help=\"dSph list, multiple dwarfs are joined with a '+'\", metavar=\"NDWARF\", type='str', default = \"Draco\")\n",
    "    \n",
    "    parser.add_option(\"-c\", \"--case\", dest=\"case\", help=\"Case: J - profiling only the J-factor; JB - combined profiling of dSph J-factor and background contribution\", metavar=\"MODE\", type='str', default = \"J\")\n",
    "    \n",
    "    # Sample dSph for either single case or combined limits\n",
    "    parser.add_option(\"--type\", dest=\"plot_type\", help=\"Case: all -- plot stacked limit and all single dwarf limits which are part of the stacked limit; single -- plot only the limit from the input combination of dwarfs\", metavar=\"CASE\", type='str', default =\"all\")\n",
    "```"
   ]
  },
  {
   "cell_type": "code",
   "execution_count": null,
   "metadata": {},
   "outputs": [],
   "source": []
  }
 ],
 "metadata": {
  "kernelspec": {
   "display_name": "Python 3",
   "language": "python",
   "name": "python3"
  },
  "language_info": {
   "codemirror_mode": {
    "name": "ipython",
    "version": 3
   },
   "file_extension": ".py",
   "mimetype": "text/x-python",
   "name": "python",
   "nbconvert_exporter": "python",
   "pygments_lexer": "ipython3",
   "version": "3.8.10"
  }
 },
 "nbformat": 4,
 "nbformat_minor": 4
}
